{
 "cells": [
  {
   "cell_type": "markdown",
   "metadata": {},
   "source": [
    "### Pandas for Exploratory Data Analysis\n",
    "\n",
    "- MovieLens 100k movie rating data:\n",
    "    - Main page: http://grouplens.org/datasets/movielens/\n",
    "    - Data dictionary: http://files.grouplens.org/datasets/movielens/ml-100k-README.txt\n",
    "    - Files: u.user, u.user_original (no header row)\n",
    "\n",
    "- WHO alcohol consumption data:\n",
    "    - Article: http://fivethirtyeight.com/datalab/dear-mona-followup-where-do-people-drink-the-most-beer-wine-and-spirits/    \n",
    "    - Original data: https://github.com/fivethirtyeight/data/tree/master/alcohol-consumption\n",
    "    - file: drinks.csv (with additional 'continent' column)\n",
    "\n",
    "- National UFO Reporting Center data:\n",
    "    - Main page: http://www.nuforc.org/webreports.html\n",
    "    - File: ufo.csv"
   ]
  },
  {
   "cell_type": "code",
   "execution_count": 1,
   "metadata": {
    "collapsed": true
   },
   "outputs": [],
   "source": [
    "import pandas as pd\n",
    "\n",
    "'''\n",
    "Reading Files, Selecting Columns, and Summarizing\n",
    "'''\n",
    "\n",
    "# can read a file from local computer \n",
    "pd.read_table('./Data/u.user')\n",
    "\n",
    "# read 'u.user' into 'users'\n",
    "users = pd.read_table('./Data/u.user', sep='|', index_col='user_id')"
   ]
  },
  {
   "cell_type": "markdown",
   "metadata": {},
   "source": [
    "### Examine the users data\n",
    "Print the following values and understand the data\n",
    "- users                   \n",
    "- type(users)             \n",
    "- users.head()            \n",
    "- users.head(10)          \n",
    "- users.tail()            \n",
    "- users.index             \n",
    "- users.columns           \n",
    "- users.dtypes            \n",
    "- users.shape             \n",
    "- users.values            "
   ]
  },
  {
   "cell_type": "code",
   "execution_count": null,
   "metadata": {
    "collapsed": true
   },
   "outputs": [],
   "source": []
  },
  {
   "cell_type": "markdown",
   "metadata": {},
   "source": [
    "### Select a column"
   ]
  },
  {
   "cell_type": "code",
   "execution_count": 2,
   "metadata": {
    "collapsed": false
   },
   "outputs": [
    {
     "data": {
      "text/plain": [
       "user_id\n",
       "1      M\n",
       "2      F\n",
       "3      M\n",
       "4      M\n",
       "5      F\n",
       "6      M\n",
       "7      M\n",
       "8      M\n",
       "9      M\n",
       "10     M\n",
       "11     F\n",
       "12     F\n",
       "13     M\n",
       "14     M\n",
       "15     F\n",
       "16     M\n",
       "17     M\n",
       "18     F\n",
       "19     M\n",
       "20     F\n",
       "21     M\n",
       "22     M\n",
       "23     F\n",
       "24     F\n",
       "25     M\n",
       "26     M\n",
       "27     F\n",
       "28     M\n",
       "29     M\n",
       "30     M\n",
       "      ..\n",
       "914    F\n",
       "915    M\n",
       "916    M\n",
       "917    F\n",
       "918    M\n",
       "919    M\n",
       "920    F\n",
       "921    F\n",
       "922    F\n",
       "923    M\n",
       "924    M\n",
       "925    F\n",
       "926    M\n",
       "927    M\n",
       "928    M\n",
       "929    M\n",
       "930    F\n",
       "931    M\n",
       "932    M\n",
       "933    M\n",
       "934    M\n",
       "935    M\n",
       "936    M\n",
       "937    M\n",
       "938    F\n",
       "939    F\n",
       "940    M\n",
       "941    M\n",
       "942    F\n",
       "943    M\n",
       "Name: gender, dtype: object"
      ]
     },
     "execution_count": 2,
     "metadata": {},
     "output_type": "execute_result"
    }
   ],
   "source": [
    "users['gender']         # select one column\n",
    "type(users['gender'])   # Series\n",
    "users.gender            # select one column using the DataFrame attribute"
   ]
  },
  {
   "cell_type": "markdown",
   "metadata": {},
   "source": [
    "### Summarize (describe) the DataFrame\n",
    "Try the folloing functions to descrive the data\n",
    "\n",
    "- users.describe()                    # describe all numeric columns\n",
    "- users.describe(include=['object'])  # describe all object columns\n",
    "- users.describe(include='all')       # describe all columns"
   ]
  },
  {
   "cell_type": "code",
   "execution_count": null,
   "metadata": {
    "collapsed": true
   },
   "outputs": [],
   "source": []
  },
  {
   "cell_type": "markdown",
   "metadata": {},
   "source": [
    "### Summarize a Series\n",
    "Use  the following to summerise a series\n",
    "\n",
    "- users.gender.describe()             # describe a single column\n",
    "- users.age.mean()                    # only calculate the mean"
   ]
  },
  {
   "cell_type": "code",
   "execution_count": null,
   "metadata": {
    "collapsed": true
   },
   "outputs": [],
   "source": []
  },
  {
   "cell_type": "markdown",
   "metadata": {},
   "source": [
    "### Count the number of occurrences of each value\n",
    "- users.gender.value_counts()     # most useful for categorical variables\n",
    "- users.age.value_counts()        # can also be used with numeric variables"
   ]
  },
  {
   "cell_type": "code",
   "execution_count": null,
   "metadata": {
    "collapsed": true
   },
   "outputs": [],
   "source": []
  },
  {
   "cell_type": "markdown",
   "metadata": {},
   "source": [
    "### Exercise 1"
   ]
  },
  {
   "cell_type": "code",
   "execution_count": 2,
   "metadata": {
    "collapsed": false
   },
   "outputs": [],
   "source": [
    "# read drinks.csv into a DataFrame called 'drinks'\n",
    "drinks = pd.read_table('./Data/drinks.csv', sep=',')\n",
    "drinks = pd.read_csv('./Data/drinks.csv')              # assumes separator is comma"
   ]
  },
  {
   "cell_type": "code",
   "execution_count": 14,
   "metadata": {
    "collapsed": false
   },
   "outputs": [],
   "source": [
    "# print the head and the tail\n",
    "\n",
    "\n",
    "# examine the default index, data types, and shape\n",
    "\n",
    "\n",
    "# print the 'beer_servings' Series\n",
    "\n",
    "\n",
    "# calculate the mean 'beer_servings' for the entire dataset\n",
    "\n",
    "\n",
    "# count the number of occurrences of each 'continent' value and see if it looks correct\n",
    "\n",
    "\n",
    "# BONUS: display only the number of rows of the 'users' DataFrame\n",
    "\n",
    "\n",
    "# BONUS: display the 3 most frequent occupations in 'users'\n",
    "\n",
    "\n",
    "# BONUS: create the 'users' DataFrame from the u.user_original file (which lacks a header row)\n",
    "# Hint: read the pandas.read_table documentation\n",
    "\n"
   ]
  },
  {
   "cell_type": "markdown",
   "metadata": {},
   "source": [
    "### Filtering and Sorting"
   ]
  },
  {
   "cell_type": "markdown",
   "metadata": {},
   "source": [
    "### Boolean filtering\n",
    "Use the following functions to show users with age < 20\n",
    "``` python\n",
    "young_bool = users.age < 20         # create a Series of booleans...\n",
    "users[young_bool]                   # ...and use that Series to filter rows\n",
    "users[users.age < 20]               # or, combine into a single step\n",
    "users[users.age < 20].occupation    # select one column from the filtered results\n",
    "users[users.age < 20].occupation.value_counts()     # value_counts of resulting Series\n",
    "```"
   ]
  },
  {
   "cell_type": "code",
   "execution_count": null,
   "metadata": {
    "collapsed": true
   },
   "outputs": [],
   "source": []
  },
  {
   "cell_type": "markdown",
   "metadata": {},
   "source": [
    "### Boolean filtering with multiple conditions\n",
    "```python\n",
    "users[(users.age < 20) & (users.gender=='M')]       # ampersand for AND condition\n",
    "users[(users.age < 20) | (users.age > 60)]          # pipe for OR condition\n",
    "```"
   ]
  },
  {
   "cell_type": "code",
   "execution_count": null,
   "metadata": {
    "collapsed": true
   },
   "outputs": [],
   "source": []
  },
  {
   "cell_type": "markdown",
   "metadata": {},
   "source": [
    "### Sorting\n",
    "``` python\n",
    "users.age.order()                   # sort a column\n",
    "users.sort('age')                   # sort a DataFrame by a single column\n",
    "users.sort('age', ascending=False)  # use descending order instead\n",
    "```"
   ]
  },
  {
   "cell_type": "code",
   "execution_count": null,
   "metadata": {
    "collapsed": true
   },
   "outputs": [],
   "source": []
  },
  {
   "cell_type": "markdown",
   "metadata": {},
   "source": [
    "### Exercise 2"
   ]
  },
  {
   "cell_type": "code",
   "execution_count": 4,
   "metadata": {
    "collapsed": true
   },
   "outputs": [],
   "source": [
    "# filter 'drinks' to only include European countries\n",
    "\n",
    "\n",
    "# filter 'drinks' to only include European countries with wine_servings > 300\n",
    "\n",
    "# calculate the mean 'beer_servings' for all of Europe\n",
    "\n",
    "# determine which 10 countries have the highest total_litres_of_pure_alcohol\n",
    "\n",
    "\n",
    "# BONUS: sort 'users' by 'occupation' and then by 'age' (in a single command)\n",
    "\n",
    "\n",
    "# BONUS: filter 'users' to only include doctors and lawyers without using a |\n",
    "# Hint: read the pandas.Series.isin documentation"
   ]
  },
  {
   "cell_type": "markdown",
   "metadata": {},
   "source": [
    "### Renaming, Adding, and Removing Columns\n",
    "Try the floowing code\n",
    "``` python\n",
    "# rename one or more columns\n",
    "drinks.rename(columns={'beer_servings':'beer', 'wine_servings':'wine'})\n",
    "drinks.rename(columns={'beer_servings':'beer', 'wine_servings':'wine'}, inplace=True)\n",
    "\n",
    "# replace all column names\n",
    "drink_cols = ['country', 'beer', 'spirit', 'wine', 'liters', 'continent']\n",
    "drinks.columns = drink_cols\n",
    "\n",
    "# replace all column names when reading the file\n",
    "drinks = pd.read_csv('./Data/drinks.csv', header=0, names=drink_cols)\n",
    "\n",
    "# add a new column as a function of existing columns\n",
    "drinks['servings'] = drinks.beer + drinks.spirit + drinks.wine\n",
    "drinks['mL'] = drinks.liters * 1000\n",
    "\n",
    "# removing columns\n",
    "drinks.drop('mL', axis=1)                               # axis=0 for rows, 1 for columns\n",
    "drinks.drop(['mL', 'servings'], axis=1, inplace=True)   # drop multiple columns\n",
    "```"
   ]
  },
  {
   "cell_type": "code",
   "execution_count": null,
   "metadata": {
    "collapsed": true
   },
   "outputs": [],
   "source": []
  },
  {
   "cell_type": "markdown",
   "metadata": {},
   "source": [
    "### Handling Missing Values\n",
    "Try the following code :\n",
    "```python\n",
    "\n",
    "# missing values are usually excluded by default\n",
    "drinks.continent.value_counts()              # excludes missing values\n",
    "drinks.continent.value_counts(dropna=False)  # includes missing values\n",
    "\n",
    "# find missing values in a Series\n",
    "drinks.continent.isnull()           # True if missing\n",
    "drinks.continent.notnull()          # True if not missing\n",
    "\n",
    "# use a boolean Series to filter DataFrame rows\n",
    "drinks[drinks.continent.isnull()]   # only show rows where continent is missing\n",
    "drinks[drinks.continent.notnull()]  # only show rows where continent is not missing\n",
    "\n",
    "# side note: understanding axes\n",
    "drinks.sum()            # sums \"down\" the 0 axis (rows)\n",
    "drinks.sum(axis=0)      # equivalent (since axis=0 is the default)\n",
    "drinks.sum(axis=1)      # sums \"across\" the 1 axis (columns)\n",
    "\n",
    "# side note: adding booleans\n",
    "pd.Series([True, False, True])          # create a boolean Series\n",
    "pd.Series([True, False, True]).sum()    # converts False to 0 and True to 1\n",
    "\n",
    "# find missing values in a DataFrame\n",
    "drinks.isnull()             # DataFrame of booleans\n",
    "drinks.isnull().sum()       # count the missing values in each column\n",
    "\n",
    "# drop missing values\n",
    "drinks.dropna()             # drop a row if ANY values are missing\n",
    "drinks.dropna(how='all')    # drop a row only if ALL values are missing\n",
    "\n",
    "# fill in missing values\n",
    "drinks.continent.fillna(value='NA', inplace=True)   # fill in missing values with 'NA'\n",
    "\n",
    "# turn off the missing value filter\n",
    "drinks = pd.read_csv('./Data/drinks.csv', header=0, names=drink_cols, na_filter=False)\n",
    "```"
   ]
  },
  {
   "cell_type": "code",
   "execution_count": null,
   "metadata": {
    "collapsed": true
   },
   "outputs": [],
   "source": []
  },
  {
   "cell_type": "markdown",
   "metadata": {},
   "source": [
    "### Exercise 3"
   ]
  },
  {
   "cell_type": "code",
   "execution_count": null,
   "metadata": {
    "collapsed": true
   },
   "outputs": [],
   "source": [
    "# read ufo.csv into a DataFrame called 'ufo'\n",
    "\n",
    "# check the shape of the DataFrame\n",
    "\n",
    "# calculate the most frequent value for each of the columns (in a single command)\n",
    "\n",
    "# what are the four most frequent colors reported?\n",
    "\n",
    "\n",
    "# for reports in VA, what's the most frequent city?\n",
    "\n",
    "\n",
    "# show only the UFO reports from Arlington, VA\n",
    "\n",
    "# count the number of missing values in each column\n",
    "\n",
    "\n",
    "# show only the UFO reports in which the City is missing\n",
    "\n",
    "\n",
    "# how many rows remain if you drop all rows with any missing values?\n",
    "\n",
    "\n",
    "# replace any spaces in the column names with an underscore\n",
    "\n",
    "\n",
    "# BONUS: redo the task above, writing generic code to replace spaces with underscores\n",
    "# In other words, your code should not reference the specific column names\n",
    "\n",
    "# BONUS: create a new column called 'Location' that includes both City and State\n",
    "# For example, the 'Location' for the first row would be 'Ithaca, NY'"
   ]
  },
  {
   "cell_type": "markdown",
   "metadata": {},
   "source": [
    "### Split-Apply-Combine\n",
    "![](http://i.imgur.com/yjNkiwL.png)"
   ]
  },
  {
   "cell_type": "markdown",
   "metadata": {},
   "source": [
    "Try the following \n",
    "```python\n",
    "# for each continent, calculate the mean beer servings\n",
    "drinks.groupby('continent').beer.mean()\n",
    "\n",
    "# for each continent, count the number of occurrences\n",
    "drinks.continent.value_counts()\n",
    "\n",
    "# for each continent, describe beer servings\n",
    "drinks.groupby('continent').beer.describe()\n",
    "\n",
    "# similar, but outputs a DataFrame and can be customized\n",
    "drinks.groupby('continent').beer.agg(['count', 'mean', 'min', 'max'])\n",
    "drinks.groupby('continent').beer.agg(['count', 'mean', 'min', 'max']).sort('mean')\n",
    "\n",
    "# if you don't specify a column to which the aggregation function should be applied,\n",
    "# it will be applied to all numeric columns\n",
    "drinks.groupby('continent').mean()\n",
    "drinks.groupby('continent').describe()\n",
    "```"
   ]
  },
  {
   "cell_type": "code",
   "execution_count": null,
   "metadata": {
    "collapsed": true
   },
   "outputs": [],
   "source": []
  },
  {
   "cell_type": "markdown",
   "metadata": {},
   "source": [
    "### Exercise 4"
   ]
  },
  {
   "cell_type": "code",
   "execution_count": 3,
   "metadata": {
    "collapsed": true
   },
   "outputs": [],
   "source": [
    "# for each occupation in 'users', count the number of occurrences\n",
    "\n",
    "# for each occupation, calculate the mean age\n",
    "\n",
    "# BONUS: for each occupation, calculate the minimum and maximum ages\n",
    "\n",
    "# BONUS: for each combination of occupation and gender, calculate the mean age\n"
   ]
  },
  {
   "cell_type": "markdown",
   "metadata": {},
   "source": [
    "### Other Frequently Used Features\n",
    "```python \n",
    "\n",
    "# map existing values to a different set of values\n",
    "users['is_male'] = users.gender.map({'F':0, 'M':1})\n",
    "\n",
    "# encode strings as integer values (automatically starts at 0)\n",
    "users['occupation_num'] = users.occupation.factorize()[0]\n",
    "\n",
    "# determine unique values in a column\n",
    "users.occupation.nunique()      # count the number of unique values\n",
    "users.occupation.unique()       # return the unique values\n",
    "\n",
    "# replace all instances of a value in a column (must match entire value)\n",
    "ufo.State.replace('Fl', 'FL', inplace=True)\n",
    "\n",
    "# string methods are accessed via 'str'\n",
    "ufo.State.str.upper()                               # converts to uppercase\n",
    "ufo.Colors_Reported.str.contains('RED', na='False') # checks for a substring\n",
    "\n",
    "# convert a string to the datetime format\n",
    "ufo['Time'] = pd.to_datetime(ufo.Time)\n",
    "ufo.Time.dt.hour                        # datetime format exposes convenient attributes\n",
    "(ufo.Time.max() - ufo.Time.min()).days  # also allows you to do datetime \"math\"\n",
    "ufo[ufo.Time > pd.datetime(2014, 1, 1)] # boolean filtering with datetime format\n",
    "\n",
    "# setting and then removing an index\n",
    "ufo.set_index('Time', inplace=True)\n",
    "ufo.reset_index(inplace=True)\n",
    "\n",
    "# sort a column by its index\n",
    "ufo.State.value_counts().sort_index()\n",
    "\n",
    "# change the data type of a column\n",
    "drinks['beer'] = drinks.beer.astype('float')\n",
    "\n",
    "# change the data type of a column when reading in a file\n",
    "pd.read_csv('drinks.csv', dtype={'beer_servings':float})\n",
    "\n",
    "# create dummy variables for 'continent' and exclude first dummy column\n",
    "continent_dummies = pd.get_dummies(drinks.continent, prefix='cont').iloc[:, 1:]\n",
    "\n",
    "# concatenate two DataFrames (axis=0 for rows, axis=1 for columns)\n",
    "drinks = pd.concat([drinks, continent_dummies], axis=1)\n",
    "```"
   ]
  },
  {
   "cell_type": "code",
   "execution_count": null,
   "metadata": {
    "collapsed": true
   },
   "outputs": [],
   "source": []
  },
  {
   "cell_type": "markdown",
   "metadata": {},
   "source": [
    "### Less Frequently Used Features\n",
    "``` python\n",
    "# create a DataFrame from a dictionary\n",
    "pd.DataFrame({'capital':['Montgomery', 'Juneau', 'Phoenix'], 'state':['AL', 'AK', 'AZ']})\n",
    "\n",
    "# create a DataFrame from a list of lists\n",
    "pd.DataFrame([['Montgomery', 'AL'], ['Juneau', 'AK'], ['Phoenix', 'AZ']], columns=['capital', 'state'])\n",
    "\n",
    "# detecting duplicate rows\n",
    "users.duplicated()          # True if a row is identical to a previous row\n",
    "users.duplicated().sum()    # count of duplicates\n",
    "users[users.duplicated()]   # only show duplicates\n",
    "users.drop_duplicates()     # drop duplicate rows\n",
    "users.age.duplicated()      # check a single column for duplicates\n",
    "users.duplicated(['age', 'gender', 'zip_code']).sum()   # specify columns for finding duplicates\n",
    "\n",
    "# display a cross-tabulation of two Series\n",
    "pd.crosstab(users.occupation, users.gender)\n",
    "\n",
    "# alternative syntax for boolean filtering (noted as \"experimental\" in the documentation)\n",
    "users.query('age < 20')                 # users[users.age < 20]\n",
    "users.query(\"age < 20 and gender=='M'\") # users[(users.age < 20) & (users.gender=='M')]\n",
    "users.query('age < 20 or age > 60')     # users[(users.age < 20) | (users.age > 60)]\n",
    "\n",
    "# display the memory usage of a DataFrame\n",
    "ufo.info()          # total usage\n",
    "ufo.memory_usage()  # usage by column\n",
    "\n",
    "# change a Series to the 'category' data type (reduces memory usage and increases performance)\n",
    "ufo['State'] = ufo.State.astype('category')\n",
    "\n",
    "# temporarily define a new column as a function of existing columns\n",
    "drinks.assign(servings = drinks.beer + drinks.spirit + drinks.wine)\n",
    "\n",
    "# limit which rows are read when reading in a file\n",
    "pd.read_csv('drinks.csv', nrows=10)           # only read first 10 rows\n",
    "pd.read_csv('drinks.csv', skiprows=[1, 2])    # skip the first two rows of data\n",
    "\n",
    "# write a DataFrame out to a CSV\n",
    "drinks.to_csv('drinks_updated.csv')                 # index is used as first column\n",
    "drinks.to_csv('drinks_updated.csv', index=False)    # ignore index\n",
    "\n",
    "# save a DataFrame to disk (aka 'pickle') and read it from disk (aka 'unpickle')\n",
    "drinks.to_pickle('drinks_pickle')\n",
    "pd.read_pickle('drinks_pickle')\n",
    "\n",
    "# randomly sample a DataFrame\n",
    "train = drinks.sample(frac=0.75, random_state=1)    # will contain 75% of the rows\n",
    "test = drinks[~drinks.index.isin(train.index)]      # will contain the other 25%\n",
    "\n",
    "# change the maximum number of rows and columns printed ('None' means unlimited)\n",
    "pd.set_option('max_rows', None)     # default is 60 rows\n",
    "pd.set_option('max_columns', None)  # default is 20 columns\n",
    "print drinks\n",
    "\n",
    "# reset options to defaults\n",
    "pd.reset_option('max_rows')\n",
    "pd.reset_option('max_columns')\n",
    "\n",
    "# change the options temporarily (settings are restored when you exit the 'with' block)\n",
    "with pd.option_context('max_rows', None, 'max_columns', None):\n",
    "    print drinks\n",
    "    \n",
    "```"
   ]
  },
  {
   "cell_type": "code",
   "execution_count": null,
   "metadata": {
    "collapsed": true
   },
   "outputs": [],
   "source": []
  }
 ],
 "metadata": {
  "kernelspec": {
   "display_name": "Python [Root]",
   "language": "python",
   "name": "Python [Root]"
  },
  "language_info": {
   "codemirror_mode": {
    "name": "ipython",
    "version": 2
   },
   "file_extension": ".py",
   "mimetype": "text/x-python",
   "name": "python",
   "nbconvert_exporter": "python",
   "pygments_lexer": "ipython2",
   "version": "2.7.12"
  }
 },
 "nbformat": 4,
 "nbformat_minor": 0
}
